{
 "cells": [
  {
   "cell_type": "code",
   "execution_count": 2,
   "metadata": {},
   "outputs": [],
   "source": [
    "from selenium import webdriver\n",
    "from selenium.webdriver.common.by import By\n",
    "from selenium.webdriver.support.ui import Select\n",
    "from selenium.webdriver.support.ui import WebDriverWait\n",
    "from selenium.webdriver.common.keys import Keys \n",
    "from selenium.webdriver.support import expected_conditions as EC\n",
    "from selenium.webdriver.chrome.service import Service\n",
    "from webdriver_manager.chrome import ChromeDriverManager\n",
    "from selenium.webdriver.chrome.options import Options\n",
    "from datetime import datetime\n",
    "import os\n",
    "import time\n",
    "# User credentials and URL\n",
    "username = \"bpassini\"\n",
    "password = \"Ebitda12\"\n",
    "url = \"https://www.smartmetertexas.com/dashboard/\"\n",
    "\n",
    "#download path\n",
    "download_path = os.path.join(os.getcwd(),'smt_downloads')\n",
    "\n",
    "chrome_options = Options()\n",
    "prefs = {\n",
    "    'download.default_directory': download_path,  # Set default download directory\n",
    "    'download.prompt_for_download': False,  # Disable download prompt\n",
    "    'directory_upgrade': True,  # Automatically overwrite existing files\n",
    "    'safebrowsing.enabled': True  # Enable safe browsing\n",
    "}\n",
    "chrome_options.add_experimental_option('prefs', prefs)\n",
    "\n",
    "\n",
    "# Dates for report\n",
    "start_date = \"01/01/2024\"\n",
    "end_date = datetime.today().strftime(\"%m/%d/%Y\")\n",
    "\n",
    "# Set up Selenium WebDriver with WebDriver Manager\n",
    "service = Service(ChromeDriverManager().install())\n",
    "driver = webdriver.Chrome(service=service, options=chrome_options)\n",
    "driver.get(url)\n",
    "# Log in\n",
    "WebDriverWait(driver, 3).until(EC.presence_of_element_located((By.ID, \"userid\"))).send_keys(username)\n",
    "driver.find_element(By.ID, \"password\").send_keys(password)\n",
    "driver.find_element(By.CSS_SELECTOR, \".btn.btn-large.btn-block.btn-primary\").click()\n",
    "# Wait for dashboard to load\n",
    "WebDriverWait(driver, 3).until(EC.presence_of_element_located((By.ID, \"reporttype_input\")))\n",
    "# Select report type \"Energy Data 15 Min Interval\"\n",
    "report_type_dropdown = Select(driver.find_element(By.ID, \"reporttype_input\"))\n",
    "report_type_dropdown.select_by_visible_text(\"Energy Data 15 Min Interval\")"
   ]
  },
  {
   "cell_type": "code",
   "execution_count": null,
   "metadata": {},
   "outputs": [],
   "source": [
    "# january_2_2023 = WebDriverWait(driver, 20).until(\n",
    "#     EC.element_to_be_clickable((By.XPATH, \"//div[@aria-label='month  2023-01']//div[@class='react-datepicker__day react-datepicker__day--002' and text()='2']\"))\n",
    "# )\n",
    "\n",
    "# # Click on January 2, 2023\n",
    "# january_2_2023.click()"
   ]
  },
  {
   "cell_type": "code",
   "execution_count": 3,
   "metadata": {},
   "outputs": [],
   "source": [
    "\n",
    "\n",
    "# Click the date picker button for end date to open the date picker\n",
    "end_date_picker_button = WebDriverWait(driver, 20).until(\n",
    "    EC.element_to_be_clickable((By.CSS_SELECTOR, \".fa.fa-calendar.calendar-link[aria-describedby='enddatefield']\"))\n",
    ")\n",
    "end_date_picker_button.click()\n",
    "\n",
    "# Wait for the date picker to be visible\n",
    "WebDriverWait(driver, 20).until(\n",
    "    EC.visibility_of_element_located((By.CLASS_NAME, \"react-datepicker__month\"))\n",
    ")\n",
    "\n",
    "# Set the start date\n",
    "start_date_field = driver.find_element(By.ID, \"startdatefield\")\n",
    "start_date_field.send_keys(Keys.END)  # Move cursor to end of the current value\n",
    "start_date_field.send_keys(Keys.BACKSPACE * 12)  # Clear the current value completely\n",
    "start_date_field.send_keys(start_date)"
   ]
  },
  {
   "cell_type": "code",
   "execution_count": 6,
   "metadata": {},
   "outputs": [],
   "source": [
    "# submit update\n",
    "driver.find_element(By.XPATH, '//button[@class=\"btn updreport-button\"]').click()"
   ]
  },
  {
   "cell_type": "code",
   "execution_count": 7,
   "metadata": {},
   "outputs": [],
   "source": [
    "#download the csv\n",
    "driver.find_element(By.XPATH, '//button[@class=\"btn meter-search-button\"]').click()"
   ]
  },
  {
   "cell_type": "code",
   "execution_count": null,
   "metadata": {},
   "outputs": [],
   "source": [
    "os.path.join(os.getcwd(),'smt_downloads')"
   ]
  },
  {
   "cell_type": "code",
   "execution_count": null,
   "metadata": {},
   "outputs": [],
   "source": []
  }
 ],
 "metadata": {
  "kernelspec": {
   "display_name": "venv_bp",
   "language": "python",
   "name": "python3"
  },
  "language_info": {
   "codemirror_mode": {
    "name": "ipython",
    "version": 3
   },
   "file_extension": ".py",
   "mimetype": "text/x-python",
   "name": "python",
   "nbconvert_exporter": "python",
   "pygments_lexer": "ipython3",
   "version": "3.10.12"
  }
 },
 "nbformat": 4,
 "nbformat_minor": 2
}
