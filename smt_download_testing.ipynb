{
 "cells": [
  {
   "cell_type": "code",
   "execution_count": 10,
   "metadata": {},
   "outputs": [],
   "source": [
    "# %%\n",
    "from selenium import webdriver\n",
    "from selenium.webdriver.common.by import By\n",
    "from selenium.webdriver.support.ui import Select\n",
    "from selenium.webdriver.support.ui import WebDriverWait\n",
    "from selenium.webdriver.common.keys import Keys \n",
    "from selenium.webdriver.support import expected_conditions as EC\n",
    "from selenium.webdriver.chrome.service import Service\n",
    "from webdriver_manager.chrome import ChromeDriverManager\n",
    "from selenium.webdriver.chrome.options import Options\n",
    "from datetime import datetime\n",
    "from dateutil.relativedelta import relativedelta\n",
    "import pandas as pd\n",
    "import bp_sql as bp\n",
    "import os\n",
    "import sys\n",
    "import shutil\n",
    "import time"
   ]
  },
  {
   "cell_type": "code",
   "execution_count": null,
   "metadata": {},
   "outputs": [],
   "source": [
    "# User credentials and URL\n",
    "username = \"bpassini\"\n",
    "password = \"Ebitda12\"\n",
    "url = \"https://www.smartmetertexas.com/dashboard/\"\n",
    "# %%\n",
    "#download path\n",
    "download_path = os.path.join(os.getcwd(),'smt_downloads')\n",
    "csv_list = os.listdir(download_path)\n",
    "max_csv_dt = pd.to_datetime(max(csv_list).split('.csv')[0])\n",
    "\n",
    "# Check if the directory exists\n",
    "if os.path.exists(download_path):\n",
    "    # Remove the entire directory and all its contents\n",
    "    shutil.rmtree(download_path)\n",
    "    print(f\"Cleared all contents of: {download_path}\")\n",
    "\n",
    "    # Recreate the empty directory\n",
    "    os.makedirs(download_path)\n",
    "\n",
    "chrome_options = Options()\n",
    "prefs = {\n",
    "    'download.default_directory': download_path,  # Set default download directory\n",
    "    'download.prompt_for_download': False,  # Disable download prompt\n",
    "    'directory_upgrade': True,  # Automatically overwrite existing files\n",
    "    'safebrowsing.enabled': True  # Enable safe browsing\n",
    "}\n",
    "chrome_options.add_experimental_option('prefs', prefs)\n",
    "\n",
    "\n",
    "# Dates for report\n",
    "begin_of_time = '2023-02-01'\n",
    "\n",
    "if max_csv_dt > pd.to_datetime(begin_of_time):\n",
    "      begin_of_time = (max_csv_dt + relativedelta(months=1))\n",
    "\n",
    "tday = pd.to_datetime(datetime.today().date())\n",
    "max_dt = tday.replace(day=1) - relativedelta(days=1)\n",
    "\n",
    "\n",
    "# Dates for report\n",
    "begin_of_time = '2023-02-01'\n",
    "\n",
    "if max_csv_dt > pd.to_datetime(begin_of_time):\n",
    "      begin_of_time = (max_csv_dt + relativedelta(months=1))\n",
    "\n",
    "tday = pd.to_datetime(datetime.today().date())\n",
    "max_dt = tday.replace(day=1) - relativedelta(days=1)\n",
    "\n",
    "\n",
    "#create tups of beg/end of each month since we've lived at this location\n",
    "if begin_of_time < max_dt:\n",
    "      dt_rng_df = pd.DataFrame(data=pd.date_range(begin_of_time, max_dt).to_list(), columns=['date'])\n",
    "      dt_rng_df['mth'] = dt_rng_df['date'] - pd.to_timedelta(dt_rng_df['date'].dt.day - 1, unit='D')\n",
    "      min_max_df = dt_rng_df.groupby('mth').agg({'date':['min','max']}).reset_index()\n",
    "      dt_tups = list(zip(min_max_df['date']['min'],min_max_df['date']['max']))\n",
    "else:\n",
    "      print('CSVs are up to date. Must wait for entire month to settle before pulling more data')\n",
    "      sys.exit()\n",
    "\n",
    "#reformat tups to strings\n",
    "str_tuples= [] \n",
    "for tup in dt_tups:\n",
    "        formatted_tuple = tuple(date.strftime('%m/%d/%Y') for date in tup)\n",
    "        str_tuples.append(formatted_tuple)\n",
    "\n",
    "strt_str = pd.to_datetime(begin_of_time).strftime('%Y%m%d')\n",
    "end_date = (pd.to_datetime(strt_str) + relativedelta(months=1) - relativedelta(days=1)).strftime(\"%m/%d/%Y\")\n",
    "\n",
    "# Set up Selenium WebDriver with WebDriver Manager\n",
    "service = Service(ChromeDriverManager().install())\n",
    "driver = webdriver.Chrome(service=service, options=chrome_options)\n",
    "driver.get(url)\n",
    "\n",
    "# Log in\n",
    "WebDriverWait(driver, 3).until(EC.presence_of_element_located((By.ID, \"userid\"))).send_keys(username)\n",
    "driver.find_element(By.ID, \"password\").send_keys(password)\n",
    "driver.find_element(By.CSS_SELECTOR, \".btn.btn-large.btn-block.btn-primary\").click()\n",
    "\n",
    "# Wait for dashboard to load\n",
    "WebDriverWait(driver, 3).until(EC.presence_of_element_located((By.ID, \"reporttype_input\")))\n",
    "\n",
    "# Select report type \"Energy Data 15 Min Interval\"\n",
    "report_type_dropdown = Select(driver.find_element(By.ID, \"reporttype_input\"))\n",
    "report_type_dropdown.select_by_visible_text(\"Energy Data 15 Min Interval\")"
   ]
  },
  {
   "cell_type": "code",
   "execution_count": null,
   "metadata": {},
   "outputs": [],
   "source": [
    "def download_csv(date_tup=tuple):\n",
    "\n",
    "    start_dt_str, end_dt_str = date_tup\n",
    "\n",
    "    print(start_dt_str, end_dt_str)\n",
    "\n",
    "    # Set the start date\n",
    "    start_date_field = driver.find_element(By.ID, \"startdatefield\")\n",
    "    start_date_field.send_keys(Keys.END)  # Move cursor to end of the current value\n",
    "    start_date_field.send_keys(Keys.BACKSPACE * 12)  # Clear the current value completely\n",
    "    start_date_field.send_keys(start_dt_str)\n",
    "    start_date_field.send_keys(Keys.ENTER)\n",
    "\n",
    "    # Set the end date\n",
    "    end_date_field = driver.find_element(By.ID, \"enddatefield\")\n",
    "    end_date_field.send_keys(Keys.END)  # Move cursor to end of the current value\n",
    "    end_date_field.send_keys(Keys.BACKSPACE * 12)  # Clear the current value completely\n",
    "    end_date_field.send_keys(end_dt_str)\n",
    "    end_date_field.send_keys(Keys.ENTER)\n",
    "\n",
    "    # submit update\n",
    "    driver.find_element(By.XPATH, '//button[@class=\"btn updreport-button\"]').click()\n",
    "\n",
    "    #download the csv\n",
    "    driver.find_element(By.XPATH, '//button[@class=\"btn meter-search-button\"]').click()\n",
    "\n",
    "    # Rename the downloaded file\n",
    "    old_filename = os.path.join(download_path,'IntervalData.csv')\n",
    "    new_filename = os.path.join(download_path,f'''{pd.to_datetime(start_dt_str).strftime('%Y%m%d')}.csv''')\n",
    "\n",
    "    # Ensure the file exists before renaming\n",
    "    start_time = time.time()\n",
    "    download_timeout = 60\n",
    "\n",
    "    while True:\n",
    "        \n",
    "        if os.path.exists(old_filename):\n",
    "            os.rename(old_filename, new_filename)\n",
    "            print(f\"File renamed to {new_filename}\")\n",
    "            break\n",
    "\n",
    "        # Check for timeout\n",
    "        if time.time() - start_time > download_timeout:\n",
    "            print(f\"Timeout: '{new_filename}' was not downloaded within {download_timeout} seconds.\")\n",
    "            break\n",
    "        time.sleep(1)\n",
    "\n",
    "    return print(f'''{new_filename}: Downloaded''')"
   ]
  },
  {
   "cell_type": "code",
   "execution_count": null,
   "metadata": {},
   "outputs": [],
   "source": [
    "for tup in str_tuples:\n",
    "    download_csv(tup)\n",
    "\n"
   ]
  },
  {
   "cell_type": "code",
   "execution_count": null,
   "metadata": {},
   "outputs": [],
   "source": [
    "driver.close()"
   ]
  },
  {
   "cell_type": "code",
   "execution_count": null,
   "metadata": {},
   "outputs": [],
   "source": [
    "csv_list = os.listdir(download_path)\n",
    "df = pd.concat([pd.read_csv(os.path.join(download_path,csv)) for csv in csv_list], ignore_index=True)"
   ]
  },
  {
   "cell_type": "code",
   "execution_count": null,
   "metadata": {},
   "outputs": [],
   "source": []
  },
  {
   "cell_type": "code",
   "execution_count": 7,
   "metadata": {},
   "outputs": [
    {
     "ename": "AttributeError",
     "evalue": "Can only use .dt accessor with datetimelike values",
     "output_type": "error",
     "traceback": [
      "\u001b[0;31m---------------------------------------------------------------------------\u001b[0m",
      "\u001b[0;31mAttributeError\u001b[0m                            Traceback (most recent call last)",
      "Cell \u001b[0;32mIn[7], line 18\u001b[0m\n\u001b[1;32m     16\u001b[0m \u001b[38;5;66;03m#create tups of beg/end of each month since we've lived at this location\u001b[39;00m\n\u001b[1;32m     17\u001b[0m dt_rng_df \u001b[38;5;241m=\u001b[39m pd\u001b[38;5;241m.\u001b[39mDataFrame(data\u001b[38;5;241m=\u001b[39mpd\u001b[38;5;241m.\u001b[39mdate_range(begin_of_time, max_dt)\u001b[38;5;241m.\u001b[39mto_list(), columns\u001b[38;5;241m=\u001b[39m[\u001b[38;5;124m'\u001b[39m\u001b[38;5;124mdate\u001b[39m\u001b[38;5;124m'\u001b[39m])\n\u001b[0;32m---> 18\u001b[0m dt_rng_df[\u001b[38;5;124m'\u001b[39m\u001b[38;5;124mmth\u001b[39m\u001b[38;5;124m'\u001b[39m] \u001b[38;5;241m=\u001b[39m dt_rng_df[\u001b[38;5;124m'\u001b[39m\u001b[38;5;124mdate\u001b[39m\u001b[38;5;124m'\u001b[39m] \u001b[38;5;241m-\u001b[39m pd\u001b[38;5;241m.\u001b[39mto_timedelta(\u001b[43mdt_rng_df\u001b[49m\u001b[43m[\u001b[49m\u001b[38;5;124;43m'\u001b[39;49m\u001b[38;5;124;43mdate\u001b[39;49m\u001b[38;5;124;43m'\u001b[39;49m\u001b[43m]\u001b[49m\u001b[38;5;241;43m.\u001b[39;49m\u001b[43mdt\u001b[49m\u001b[38;5;241m.\u001b[39mday \u001b[38;5;241m-\u001b[39m \u001b[38;5;241m1\u001b[39m, unit\u001b[38;5;241m=\u001b[39m\u001b[38;5;124m'\u001b[39m\u001b[38;5;124mD\u001b[39m\u001b[38;5;124m'\u001b[39m)\n\u001b[1;32m     19\u001b[0m min_max_df \u001b[38;5;241m=\u001b[39m dt_rng_df\u001b[38;5;241m.\u001b[39mgroupby(\u001b[38;5;124m'\u001b[39m\u001b[38;5;124mmth\u001b[39m\u001b[38;5;124m'\u001b[39m)\u001b[38;5;241m.\u001b[39magg({\u001b[38;5;124m'\u001b[39m\u001b[38;5;124mdate\u001b[39m\u001b[38;5;124m'\u001b[39m:[\u001b[38;5;124m'\u001b[39m\u001b[38;5;124mmin\u001b[39m\u001b[38;5;124m'\u001b[39m,\u001b[38;5;124m'\u001b[39m\u001b[38;5;124mmax\u001b[39m\u001b[38;5;124m'\u001b[39m]})\u001b[38;5;241m.\u001b[39mreset_index()\n\u001b[1;32m     20\u001b[0m dt_tups \u001b[38;5;241m=\u001b[39m \u001b[38;5;28mlist\u001b[39m(\u001b[38;5;28mzip\u001b[39m(min_max_df[\u001b[38;5;124m'\u001b[39m\u001b[38;5;124mdate\u001b[39m\u001b[38;5;124m'\u001b[39m][\u001b[38;5;124m'\u001b[39m\u001b[38;5;124mmin\u001b[39m\u001b[38;5;124m'\u001b[39m],min_max_df[\u001b[38;5;124m'\u001b[39m\u001b[38;5;124mdate\u001b[39m\u001b[38;5;124m'\u001b[39m][\u001b[38;5;124m'\u001b[39m\u001b[38;5;124mmax\u001b[39m\u001b[38;5;124m'\u001b[39m]))\n",
      "File \u001b[0;32m~/envs/venv_bp/lib/python3.10/site-packages/pandas/core/generic.py:5989\u001b[0m, in \u001b[0;36mNDFrame.__getattr__\u001b[0;34m(self, name)\u001b[0m\n\u001b[1;32m   5982\u001b[0m \u001b[38;5;28;01mif\u001b[39;00m (\n\u001b[1;32m   5983\u001b[0m     name \u001b[38;5;129;01mnot\u001b[39;00m \u001b[38;5;129;01min\u001b[39;00m \u001b[38;5;28mself\u001b[39m\u001b[38;5;241m.\u001b[39m_internal_names_set\n\u001b[1;32m   5984\u001b[0m     \u001b[38;5;129;01mand\u001b[39;00m name \u001b[38;5;129;01mnot\u001b[39;00m \u001b[38;5;129;01min\u001b[39;00m \u001b[38;5;28mself\u001b[39m\u001b[38;5;241m.\u001b[39m_metadata\n\u001b[1;32m   5985\u001b[0m     \u001b[38;5;129;01mand\u001b[39;00m name \u001b[38;5;129;01mnot\u001b[39;00m \u001b[38;5;129;01min\u001b[39;00m \u001b[38;5;28mself\u001b[39m\u001b[38;5;241m.\u001b[39m_accessors\n\u001b[1;32m   5986\u001b[0m     \u001b[38;5;129;01mand\u001b[39;00m \u001b[38;5;28mself\u001b[39m\u001b[38;5;241m.\u001b[39m_info_axis\u001b[38;5;241m.\u001b[39m_can_hold_identifiers_and_holds_name(name)\n\u001b[1;32m   5987\u001b[0m ):\n\u001b[1;32m   5988\u001b[0m     \u001b[38;5;28;01mreturn\u001b[39;00m \u001b[38;5;28mself\u001b[39m[name]\n\u001b[0;32m-> 5989\u001b[0m \u001b[38;5;28;01mreturn\u001b[39;00m \u001b[38;5;28;43mobject\u001b[39;49m\u001b[38;5;241;43m.\u001b[39;49m\u001b[38;5;21;43m__getattribute__\u001b[39;49m\u001b[43m(\u001b[49m\u001b[38;5;28;43mself\u001b[39;49m\u001b[43m,\u001b[49m\u001b[43m \u001b[49m\u001b[43mname\u001b[49m\u001b[43m)\u001b[49m\n",
      "File \u001b[0;32m~/envs/venv_bp/lib/python3.10/site-packages/pandas/core/accessor.py:224\u001b[0m, in \u001b[0;36mCachedAccessor.__get__\u001b[0;34m(self, obj, cls)\u001b[0m\n\u001b[1;32m    221\u001b[0m \u001b[38;5;28;01mif\u001b[39;00m obj \u001b[38;5;129;01mis\u001b[39;00m \u001b[38;5;28;01mNone\u001b[39;00m:\n\u001b[1;32m    222\u001b[0m     \u001b[38;5;66;03m# we're accessing the attribute of the class, i.e., Dataset.geo\u001b[39;00m\n\u001b[1;32m    223\u001b[0m     \u001b[38;5;28;01mreturn\u001b[39;00m \u001b[38;5;28mself\u001b[39m\u001b[38;5;241m.\u001b[39m_accessor\n\u001b[0;32m--> 224\u001b[0m accessor_obj \u001b[38;5;241m=\u001b[39m \u001b[38;5;28;43mself\u001b[39;49m\u001b[38;5;241;43m.\u001b[39;49m\u001b[43m_accessor\u001b[49m\u001b[43m(\u001b[49m\u001b[43mobj\u001b[49m\u001b[43m)\u001b[49m\n\u001b[1;32m    225\u001b[0m \u001b[38;5;66;03m# Replace the property with the accessor object. Inspired by:\u001b[39;00m\n\u001b[1;32m    226\u001b[0m \u001b[38;5;66;03m# https://www.pydanny.com/cached-property.html\u001b[39;00m\n\u001b[1;32m    227\u001b[0m \u001b[38;5;66;03m# We need to use object.__setattr__ because we overwrite __setattr__ on\u001b[39;00m\n\u001b[1;32m    228\u001b[0m \u001b[38;5;66;03m# NDFrame\u001b[39;00m\n\u001b[1;32m    229\u001b[0m \u001b[38;5;28mobject\u001b[39m\u001b[38;5;241m.\u001b[39m\u001b[38;5;21m__setattr__\u001b[39m(obj, \u001b[38;5;28mself\u001b[39m\u001b[38;5;241m.\u001b[39m_name, accessor_obj)\n",
      "File \u001b[0;32m~/envs/venv_bp/lib/python3.10/site-packages/pandas/core/indexes/accessors.py:580\u001b[0m, in \u001b[0;36mCombinedDatetimelikeProperties.__new__\u001b[0;34m(cls, data)\u001b[0m\n\u001b[1;32m    577\u001b[0m \u001b[38;5;28;01melif\u001b[39;00m is_period_dtype(data\u001b[38;5;241m.\u001b[39mdtype):\n\u001b[1;32m    578\u001b[0m     \u001b[38;5;28;01mreturn\u001b[39;00m PeriodProperties(data, orig)\n\u001b[0;32m--> 580\u001b[0m \u001b[38;5;28;01mraise\u001b[39;00m \u001b[38;5;167;01mAttributeError\u001b[39;00m(\u001b[38;5;124m\"\u001b[39m\u001b[38;5;124mCan only use .dt accessor with datetimelike values\u001b[39m\u001b[38;5;124m\"\u001b[39m)\n",
      "\u001b[0;31mAttributeError\u001b[0m: Can only use .dt accessor with datetimelike values"
     ]
    }
   ],
   "source": [
    "download_path = os.path.join(os.getcwd(),'smt_downloads')\n",
    "csv_list = os.listdir(download_path)\n",
    "max_csv_dt = pd.to_datetime(max(csv_list).split('.csv')[0])\n",
    "\n",
    "# Dates for report\n",
    "begin_of_time = '2023-02-01'\n",
    "\n",
    "if max_csv_dt > pd.to_datetime(begin_of_time):\n",
    "      begin_of_time = (max_csv_dt + relativedelta(months=1))\n",
    "\n",
    "tday = pd.to_datetime(datetime.today().date())\n",
    "max_dt = tday.replace(day=1) - relativedelta(days=1)\n",
    "\n",
    "\n",
    "\n",
    "#create tups of beg/end of each month since we've lived at this location\n",
    "if begin_of_time < max_dt:\n",
    "      dt_rng_df = pd.DataFrame(data=pd.date_range(begin_of_time, max_dt).to_list(), columns=['date'])\n",
    "      dt_rng_df['mth'] = dt_rng_df['date'] - pd.to_timedelta(dt_rng_df['date'].dt.day - 1, unit='D')\n",
    "      min_max_df = dt_rng_df.groupby('mth').agg({'date':['min','max']}).reset_index()\n",
    "      dt_tups = list(zip(min_max_df['date']['min'],min_max_df['date']['max']))\n",
    "else:\n",
    "      print('CSVs are up to date. Must wait for entire month to settle before pulling more data')\n",
    "      sys.exit()"
   ]
  },
  {
   "cell_type": "code",
   "execution_count": 9,
   "metadata": {},
   "outputs": [
    {
     "data": {
      "text/plain": [
       "False"
      ]
     },
     "execution_count": 9,
     "metadata": {},
     "output_type": "execute_result"
    }
   ],
   "source": []
  },
  {
   "cell_type": "code",
   "execution_count": null,
   "metadata": {},
   "outputs": [],
   "source": []
  }
 ],
 "metadata": {
  "kernelspec": {
   "display_name": "venv_bp",
   "language": "python",
   "name": "python3"
  },
  "language_info": {
   "codemirror_mode": {
    "name": "ipython",
    "version": 3
   },
   "file_extension": ".py",
   "mimetype": "text/x-python",
   "name": "python",
   "nbconvert_exporter": "python",
   "pygments_lexer": "ipython3",
   "version": "3.10.12"
  }
 },
 "nbformat": 4,
 "nbformat_minor": 2
}
