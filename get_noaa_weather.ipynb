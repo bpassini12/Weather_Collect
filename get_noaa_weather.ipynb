{
 "cells": [
  {
   "attachments": {},
   "cell_type": "markdown",
   "metadata": {},
   "source": [
    "# NOAA\n",
    "- request example: https://www.ncei.noaa.gov/access/services/data/v1?dataset=local-climatological-data&dataTypes=HourlyWindSpeed&dataTypes=HourlyDryBulbTemperature&stations=72530094846&startDate=2018-05-01&endDate=2018-05-31\n",
    "- list of stationsids: https://www.itl.nist.gov/div898/winds/asos-wx/WBAN-MSC.TXT\n",
    " - list of WBAN and lat/long: https://www.epa.gov/sites/default/files/documents/STATION_LOCATIONS.PDF\n",
    "- Other Notes: https://www.ncei.noaa.gov/access/services/support/v3/datasets.json"
   ]
  },
  {
   "cell_type": "code",
   "execution_count": 7,
   "metadata": {},
   "outputs": [],
   "source": [
    "#needed to make web requests\n",
    "import requests\n",
    "\n",
    "#store the data we get as a dataframe\n",
    "import pandas as pd\n",
    "\n",
    "#convert the response as a strcuctured json\n",
    "import json\n",
    "\n",
    "#mathematical operations on lists\n",
    "import numpy as np\n",
    "\n",
    "#parse the datetimes we get from NOAA\n",
    "from datetime import datetime\n",
    "\n",
    "import urllib\n",
    "\n",
    "import os\n",
    "\n",
    "pd.set_option('display.max_columns', None)\n",
    "\n",
    "pd.set_option('display.max_rows', None)"
   ]
  },
  {
   "attachments": {},
   "cell_type": "markdown",
   "metadata": {},
   "source": [
    "## Setup"
   ]
  },
  {
   "attachments": {},
   "cell_type": "markdown",
   "metadata": {},
   "source": [
    "### Read in Station Names"
   ]
  },
  {
   "cell_type": "code",
   "execution_count": 103,
   "metadata": {},
   "outputs": [],
   "source": [
    "cwd = os.getcwd()\n",
    "\n",
    "download_fldr = os.path.join(cwd, 'downloads')\n",
    "\n",
    "# sites\n",
    "stations_link = 'https://www.itl.nist.gov/div898/winds/asos-wx/WBAN-MSC.TXT'\n",
    "\n",
    "# read in html byte\n",
    "i = requests.get(stations_link)\n",
    "content = i.content\n",
    "decoded_content  = str(content,'UTF-8')\n",
    "\n",
    "end_list = []\n",
    "\n",
    "#skip first 6 rows since it doesn't contain actual data\n",
    "#read cols in first then create list with all data\n",
    "#Couldnt pd.read_csv bc some of the names are 3+ words and it would skip the >2+ NAMEs\n",
    "for n,i in enumerate(decoded_content.splitlines()[6:]):\n",
    "    if n ==0:\n",
    "        cols = list(i.split())\n",
    "    else:\n",
    "        nums = i.split()[0:2]\n",
    "        names = \" \".join(i for i in i.split()[2:])\n",
    "        \n",
    "        nums.append(names)\n",
    "\n",
    "        end_list.append(nums)\n",
    "\n",
    "df = pd.DataFrame(end_list, columns=cols)\n",
    "df = df[df['NAME'].notna()]\n",
    "df['AWSMSC_WBAN'] = df['AWSMSC'] + df['WBAN']"
   ]
  },
  {
   "attachments": {},
   "cell_type": "markdown",
   "metadata": {},
   "source": [
    "### Houston Stations"
   ]
  },
  {
   "cell_type": "code",
   "execution_count": 107,
   "metadata": {},
   "outputs": [
    {
     "data": {
      "text/html": [
       "<div>\n",
       "<style scoped>\n",
       "    .dataframe tbody tr th:only-of-type {\n",
       "        vertical-align: middle;\n",
       "    }\n",
       "\n",
       "    .dataframe tbody tr th {\n",
       "        vertical-align: top;\n",
       "    }\n",
       "\n",
       "    .dataframe thead th {\n",
       "        text-align: right;\n",
       "    }\n",
       "</style>\n",
       "<table border=\"1\" class=\"dataframe\">\n",
       "  <thead>\n",
       "    <tr style=\"text-align: right;\">\n",
       "      <th></th>\n",
       "      <th>AWSMSC</th>\n",
       "      <th>WBAN</th>\n",
       "      <th>NAME</th>\n",
       "      <th>AWSMSC_WBAN</th>\n",
       "    </tr>\n",
       "  </thead>\n",
       "  <tbody>\n",
       "    <tr>\n",
       "      <th>0</th>\n",
       "      <td>722429</td>\n",
       "      <td>53910</td>\n",
       "      <td>HOUSTON HOOKS MEMORIAL AP</td>\n",
       "      <td>72242953910</td>\n",
       "    </tr>\n",
       "    <tr>\n",
       "      <th>1</th>\n",
       "      <td>722430</td>\n",
       "      <td>12960</td>\n",
       "      <td>HOUSTON INTERCONTINENTAL AP</td>\n",
       "      <td>72243012960</td>\n",
       "    </tr>\n",
       "    <tr>\n",
       "      <th>2</th>\n",
       "      <td>722433</td>\n",
       "      <td>12969</td>\n",
       "      <td>HOUSTON LAKESIDE ARP</td>\n",
       "      <td>72243312969</td>\n",
       "    </tr>\n",
       "    <tr>\n",
       "      <th>3</th>\n",
       "      <td>722435</td>\n",
       "      <td>12918</td>\n",
       "      <td>HOUSTON WILLIAM P HOBBY AP</td>\n",
       "      <td>72243512918</td>\n",
       "    </tr>\n",
       "    <tr>\n",
       "      <th>4</th>\n",
       "      <td>722436</td>\n",
       "      <td>12906</td>\n",
       "      <td>HOUSTON ELLINGTON AFB</td>\n",
       "      <td>72243612906</td>\n",
       "    </tr>\n",
       "  </tbody>\n",
       "</table>\n",
       "</div>"
      ],
      "text/plain": [
       "   AWSMSC   WBAN                         NAME  AWSMSC_WBAN\n",
       "0  722429  53910    HOUSTON HOOKS MEMORIAL AP  72242953910\n",
       "1  722430  12960  HOUSTON INTERCONTINENTAL AP  72243012960\n",
       "2  722433  12969         HOUSTON LAKESIDE ARP  72243312969\n",
       "3  722435  12918   HOUSTON WILLIAM P HOBBY AP  72243512918\n",
       "4  722436  12906        HOUSTON ELLINGTON AFB  72243612906"
      ]
     },
     "execution_count": 107,
     "metadata": {},
     "output_type": "execute_result"
    }
   ],
   "source": [
    "hou_stations = df[df.NAME.str.contains('HOUSTON')].reset_index(drop=True)\n",
    "hou_stations"
   ]
  },
  {
   "attachments": {},
   "cell_type": "markdown",
   "metadata": {},
   "source": [
    "## Data Download"
   ]
  },
  {
   "cell_type": "code",
   "execution_count": 5,
   "metadata": {},
   "outputs": [],
   "source": [
    "awsmsc_wban = iah_id\n",
    "strt_dte = '2020-01-01'\n",
    "end_dte = '2020-12-01'"
   ]
  },
  {
   "cell_type": "code",
   "execution_count": 21,
   "metadata": {},
   "outputs": [
    {
     "data": {
      "text/plain": [
       "'https://www.ncei.noaa.gov/access/services/data/v1?dataset=local-climatological-data&dataTypes=HourlyWindSpeed&dataTypes=HourlyDryBulbTemperature&stations=72243012960&startDate=2020-01-01&endDate=2020-12-01'"
      ]
     },
     "execution_count": 21,
     "metadata": {},
     "output_type": "execute_result"
    }
   ],
   "source": [
    "noaa_api_call = f'https://www.ncei.noaa.gov/access/services/data/v1?dataset=local-climatological-data&dataTypes=HourlyWindSpeed&dataTypes=HourlyDryBulbTemperature&stations={awsmsc_wban}&startDate={strt_dte}&endDate={end_dte}'\n",
    "noaa_api_call"
   ]
  },
  {
   "cell_type": "code",
   "execution_count": null,
   "metadata": {},
   "outputs": [],
   "source": [
    "station = ''\n",
    "data_type = 'local-climatological-data'"
   ]
  },
  {
   "cell_type": "code",
   "execution_count": 25,
   "metadata": {},
   "outputs": [],
   "source": [
    "try:\n",
    "   os.makedirs(\"downloads\")\n",
    "except FileExistsError:\n",
    "   # directory already exists\n",
    "   pass\n",
    "\n",
    "with open(os.path.join(download_fldr, 'test_data' + '.csv'), 'wb') as file:\n",
    "    response = requests.get(noaa_api_call, allow_redirects=True)\n",
    "    file.write(response.content)"
   ]
  },
  {
   "cell_type": "code",
   "execution_count": null,
   "metadata": {},
   "outputs": [],
   "source": []
  }
 ],
 "metadata": {
  "kernelspec": {
   "display_name": "Weather_Collect-sNBqmvzg",
   "language": "python",
   "name": "python3"
  },
  "language_info": {
   "codemirror_mode": {
    "name": "ipython",
    "version": 3
   },
   "file_extension": ".py",
   "mimetype": "text/x-python",
   "name": "python",
   "nbconvert_exporter": "python",
   "pygments_lexer": "ipython3",
   "version": "3.8.3"
  },
  "orig_nbformat": 4,
  "vscode": {
   "interpreter": {
    "hash": "cb531205692794cc84d126eeee25e07db4c0459ba8c70ae9f2a86b110ee6a676"
   }
  }
 },
 "nbformat": 4,
 "nbformat_minor": 2
}
