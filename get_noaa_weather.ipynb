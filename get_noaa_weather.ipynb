{
 "cells": [
  {
   "attachments": {},
   "cell_type": "markdown",
   "metadata": {},
   "source": [
    "# NOAA\n",
    "- request example: https://www.ncei.noaa.gov/access/services/data/v1?dataset=local-climatological-data&dataTypes=HourlyWindSpeed&dataTypes=HourlyDryBulbTemperature&stations=72530094846&startDate=2018-05-01&endDate=2018-05-31\n",
    "- list of stationsids: https://www.itl.nist.gov/div898/winds/asos-wx/WBAN-MSC.TXT\n",
    " - list of WBAN and lat/long: https://www.epa.gov/sites/default/files/documents/STATION_LOCATIONS.PDF\n",
    "- Other Notes: https://www.ncei.noaa.gov/access/services/support/v3/datasets.json"
   ]
  },
  {
   "cell_type": "code",
   "execution_count": null,
   "metadata": {},
   "outputs": [],
   "source": [
    "#needed to make web requests\n",
    "import requests\n",
    "\n",
    "#store the data we get as a dataframe\n",
    "import pandas as pd\n",
    "\n",
    "#convert the response as a strcuctured json\n",
    "import json\n",
    "\n",
    "#mathematical operations on lists\n",
    "import numpy as np\n",
    "\n",
    "#parse the datetimes we get from NOAA\n",
    "from datetime import datetime\n",
    "\n",
    "import urllib\n",
    "\n",
    "import os"
   ]
  },
  {
   "attachments": {},
   "cell_type": "markdown",
   "metadata": {},
   "source": [
    "## Setup"
   ]
  },
  {
   "attachments": {},
   "cell_type": "markdown",
   "metadata": {},
   "source": [
    "### Read in Station Names"
   ]
  },
  {
   "cell_type": "code",
   "execution_count": null,
   "metadata": {},
   "outputs": [],
   "source": [
    "cwd = os.getcwd()\n",
    "\n",
    "download_fldr = os.path.join(cwd, 'downloads')\n",
    "\n",
    "# sites\n",
    "stations_link = 'https://www.itl.nist.gov/div898/winds/asos-wx/WBAN-MSC.TXT'\n",
    "\n",
    "# read in html byte\n",
    "i = requests.get(stations_link)\n",
    "content = i.content\n",
    "decoded_content  = str(content,'UTF-8')\n",
    "\n",
    "end_list = []\n",
    "\n",
    "#skip first 6 rows since it doesn't contain actual data\n",
    "#read cols in first then create list with all data\n",
    "#Couldnt pd.read_csv bc some of the names are 3+ words and it would skip the >2+ NAMEs\n",
    "for n,i in enumerate(decoded_content.splitlines()[6:]):\n",
    "    if n ==0:\n",
    "        cols = list(i.split())\n",
    "    else:\n",
    "        nums = i.split()[0:2]\n",
    "        names = \" \".join(i for i in i.split()[2:])\n",
    "        \n",
    "        nums.append(names)\n",
    "\n",
    "        end_list.append(nums)\n",
    "\n",
    "df = pd.DataFrame(end_list, columns=cols)\n",
    "df = df[df['NAME'].notna()]\n",
    "df['AWSMSC_WBAN'] = df['AWSMSC'] + df['WBAN']"
   ]
  },
  {
   "attachments": {},
   "cell_type": "markdown",
   "metadata": {},
   "source": [
    "### Houston Stations"
   ]
  },
  {
   "cell_type": "code",
   "execution_count": null,
   "metadata": {},
   "outputs": [],
   "source": [
    "hou_stations = df[df.NAME.str.contains('HOUSTON')].reset_index(drop=True)\n",
    "hou_stations"
   ]
  },
  {
   "attachments": {},
   "cell_type": "markdown",
   "metadata": {},
   "source": [
    "## Data Download"
   ]
  },
  {
   "cell_type": "code",
   "execution_count": null,
   "metadata": {},
   "outputs": [],
   "source": [
    "awsmsc_wban = 72243012960\n",
    "strt_dte = '2020-01-01'\n",
    "end_dte = '2020-12-01'"
   ]
  },
  {
   "cell_type": "code",
   "execution_count": null,
   "metadata": {},
   "outputs": [],
   "source": [
    "noaa_api_call = f'https://www.ncei.noaa.gov/access/services/data/v1?dataset=local-climatological-data&dataTypes=HourlyWindSpeed&dataTypes=HourlyDryBulbTemperature&stations={awsmsc_wban}&startDate={strt_dte}&endDate={end_dte}'\n",
    "noaa_api_call"
   ]
  },
  {
   "cell_type": "code",
   "execution_count": null,
   "metadata": {},
   "outputs": [],
   "source": [
    "station = ''\n",
    "data_type = 'local-climatological-data'"
   ]
  },
  {
   "cell_type": "code",
   "execution_count": null,
   "metadata": {},
   "outputs": [],
   "source": [
    "try:\n",
    "   os.makedirs(download_fldr)\n",
    "except FileExistsError:\n",
    "   # directory already exists\n",
    "   pass\n",
    "\n",
    "filename = f'awsmsc_wban_{strt_dte}_{end_dte}' + '.csv'\n",
    "with open(os.path.join(download_fldr, filename), 'wb') as file:\n",
    "    response = requests.get(noaa_api_call, allow_redirects=True)\n",
    "    file.write(response.content)\n",
    "\n",
    "# get filepath and readin csv\n",
    "filepath = os.path.join(download_fldr,filename) \n",
    "df = pd.read_csv(filepath)\n",
    "\n",
    "# column formatting\n",
    "df['DATE'] = pd.to_datetime(df.DATE)\n",
    "\n",
    "# get a list of all non-main columns that are also object datatypes\n",
    "all_cols_set = set(df.columns.to_list())\n",
    "main_cols_set = set(df.loc[:,:'SOURCE'].columns.to_list())\n",
    "var_cols = list(all_cols_set.difference(main_cols_set))\n",
    "object_var_cols = list(set(df.select_dtypes(include=['object']).columns).intersection(set(var_cols)))\n",
    "\n",
    "# remove any strings from these variable columns because they shouldnt have any strings in them\n",
    "df[object_var_cols] = df[object_var_cols].replace(r'[^\\d.]+', '',regex=True)\n",
    "\n",
    "#fill NaNs and change to ints\n",
    "df[var_cols] = df[var_cols].fillna(0)\n",
    "df[var_cols] = df[var_cols].astype(int)\n",
    "\n",
    "\n",
    "df\n",
    "\n"
   ]
  },
  {
   "cell_type": "code",
   "execution_count": null,
   "metadata": {},
   "outputs": [],
   "source": [
    "df.info()"
   ]
  }
 ],
 "metadata": {
  "kernelspec": {
   "display_name": "Weather_Collect-sNBqmvzg",
   "language": "python",
   "name": "python3"
  },
  "language_info": {
   "codemirror_mode": {
    "name": "ipython",
    "version": 3
   },
   "file_extension": ".py",
   "mimetype": "text/x-python",
   "name": "python",
   "nbconvert_exporter": "python",
   "pygments_lexer": "ipython3",
   "version": "3.10.9"
  },
  "orig_nbformat": 4,
  "vscode": {
   "interpreter": {
    "hash": "cb531205692794cc84d126eeee25e07db4c0459ba8c70ae9f2a86b110ee6a676"
   }
  }
 },
 "nbformat": 4,
 "nbformat_minor": 2
}
